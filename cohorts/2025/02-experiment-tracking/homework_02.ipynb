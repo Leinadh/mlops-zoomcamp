{
 "cells": [
  {
   "cell_type": "markdown",
   "metadata": {},
   "source": [
    "## Q1"
   ]
  },
  {
   "cell_type": "code",
   "execution_count": 1,
   "metadata": {},
   "outputs": [
    {
     "name": "stdout",
     "output_type": "stream",
     "text": [
      "Collecting mlflow\n",
      "  Downloading mlflow-2.22.0-py3-none-any.whl.metadata (30 kB)\n",
      "Collecting mlflow-skinny==2.22.0 (from mlflow)\n",
      "  Downloading mlflow_skinny-2.22.0-py3-none-any.whl.metadata (31 kB)\n",
      "Requirement already satisfied: Flask<4 in /Users/daniel/opt/anaconda3/envs/my_env_2/lib/python3.9/site-packages (from mlflow) (3.0.3)\n",
      "Requirement already satisfied: Jinja2<4,>=2.11 in /Users/daniel/opt/anaconda3/envs/my_env_2/lib/python3.9/site-packages (from mlflow) (3.1.3)\n",
      "Collecting alembic!=1.10.0,<2 (from mlflow)\n",
      "  Downloading alembic-1.16.1-py3-none-any.whl.metadata (7.3 kB)\n",
      "Collecting docker<8,>=4.0.0 (from mlflow)\n",
      "  Downloading docker-7.1.0-py3-none-any.whl.metadata (3.8 kB)\n",
      "Collecting graphene<4 (from mlflow)\n",
      "  Downloading graphene-3.4.3-py2.py3-none-any.whl.metadata (6.9 kB)\n",
      "Collecting gunicorn<24 (from mlflow)\n",
      "  Downloading gunicorn-23.0.0-py3-none-any.whl.metadata (4.4 kB)\n",
      "Collecting markdown<4,>=3.3 (from mlflow)\n",
      "  Downloading markdown-3.8-py3-none-any.whl.metadata (5.1 kB)\n",
      "Requirement already satisfied: matplotlib<4 in /Users/daniel/opt/anaconda3/envs/my_env_2/lib/python3.9/site-packages (from mlflow) (3.8.3)\n",
      "Requirement already satisfied: numpy<3 in /Users/daniel/opt/anaconda3/envs/my_env_2/lib/python3.9/site-packages (from mlflow) (1.26.4)\n",
      "Requirement already satisfied: pandas<3 in /Users/daniel/opt/anaconda3/envs/my_env_2/lib/python3.9/site-packages (from mlflow) (2.2.2)\n",
      "Collecting pyarrow<20,>=4.0.0 (from mlflow)\n",
      "  Downloading pyarrow-19.0.1-cp39-cp39-macosx_12_0_arm64.whl.metadata (3.3 kB)\n",
      "Requirement already satisfied: scikit-learn<2 in /Users/daniel/opt/anaconda3/envs/my_env_2/lib/python3.9/site-packages (from mlflow) (1.4.2)\n",
      "Requirement already satisfied: scipy<2 in /Users/daniel/opt/anaconda3/envs/my_env_2/lib/python3.9/site-packages (from mlflow) (1.13.0)\n",
      "Collecting sqlalchemy<3,>=1.4.0 (from mlflow)\n",
      "  Downloading sqlalchemy-2.0.41-cp39-cp39-macosx_11_0_arm64.whl.metadata (9.6 kB)\n",
      "Collecting cachetools<6,>=5.0.0 (from mlflow-skinny==2.22.0->mlflow)\n",
      "  Downloading cachetools-5.5.2-py3-none-any.whl.metadata (5.4 kB)\n",
      "Requirement already satisfied: click<9,>=7.0 in /Users/daniel/opt/anaconda3/envs/my_env_2/lib/python3.9/site-packages (from mlflow-skinny==2.22.0->mlflow) (8.1.7)\n",
      "Collecting cloudpickle<4 (from mlflow-skinny==2.22.0->mlflow)\n",
      "  Downloading cloudpickle-3.1.1-py3-none-any.whl.metadata (7.1 kB)\n",
      "Collecting databricks-sdk<1,>=0.20.0 (from mlflow-skinny==2.22.0->mlflow)\n",
      "  Downloading databricks_sdk-0.54.0-py3-none-any.whl.metadata (39 kB)\n",
      "Requirement already satisfied: fastapi<1 in /Users/daniel/opt/anaconda3/envs/my_env_2/lib/python3.9/site-packages (from mlflow-skinny==2.22.0->mlflow) (0.104.1)\n",
      "Collecting gitpython<4,>=3.1.9 (from mlflow-skinny==2.22.0->mlflow)\n",
      "  Downloading GitPython-3.1.44-py3-none-any.whl.metadata (13 kB)\n",
      "Requirement already satisfied: importlib_metadata!=4.7.0,<9,>=3.7.0 in /Users/daniel/opt/anaconda3/envs/my_env_2/lib/python3.9/site-packages (from mlflow-skinny==2.22.0->mlflow) (8.7.0)\n",
      "Collecting opentelemetry-api<3,>=1.9.0 (from mlflow-skinny==2.22.0->mlflow)\n",
      "  Downloading opentelemetry_api-1.33.1-py3-none-any.whl.metadata (1.6 kB)\n",
      "Collecting opentelemetry-sdk<3,>=1.9.0 (from mlflow-skinny==2.22.0->mlflow)\n",
      "  Downloading opentelemetry_sdk-1.33.1-py3-none-any.whl.metadata (1.6 kB)\n",
      "Requirement already satisfied: packaging<25 in /Users/daniel/opt/anaconda3/envs/my_env_2/lib/python3.9/site-packages (from mlflow-skinny==2.22.0->mlflow) (24.0)\n",
      "Collecting protobuf<7,>=3.12.0 (from mlflow-skinny==2.22.0->mlflow)\n",
      "  Downloading protobuf-6.31.0-cp39-abi3-macosx_10_9_universal2.whl.metadata (593 bytes)\n",
      "Requirement already satisfied: pydantic<3,>=1.10.8 in /Users/daniel/opt/anaconda3/envs/my_env_2/lib/python3.9/site-packages (from mlflow-skinny==2.22.0->mlflow) (2.4.2)\n",
      "Requirement already satisfied: pyyaml<7,>=5.1 in /Users/daniel/opt/anaconda3/envs/my_env_2/lib/python3.9/site-packages (from mlflow-skinny==2.22.0->mlflow) (6.0.1)\n",
      "Requirement already satisfied: requests<3,>=2.17.3 in /Users/daniel/opt/anaconda3/envs/my_env_2/lib/python3.9/site-packages (from mlflow-skinny==2.22.0->mlflow) (2.31.0)\n",
      "Collecting sqlparse<1,>=0.4.0 (from mlflow-skinny==2.22.0->mlflow)\n",
      "  Downloading sqlparse-0.5.3-py3-none-any.whl.metadata (3.9 kB)\n",
      "Requirement already satisfied: typing-extensions<5,>=4.0.0 in /Users/daniel/opt/anaconda3/envs/my_env_2/lib/python3.9/site-packages (from mlflow-skinny==2.22.0->mlflow) (4.10.0)\n",
      "Requirement already satisfied: uvicorn<1 in /Users/daniel/opt/anaconda3/envs/my_env_2/lib/python3.9/site-packages (from mlflow-skinny==2.22.0->mlflow) (0.24.0.post1)\n",
      "Collecting Mako (from alembic!=1.10.0,<2->mlflow)\n",
      "  Downloading mako-1.3.10-py3-none-any.whl.metadata (2.9 kB)\n",
      "Collecting typing-extensions<5,>=4.0.0 (from mlflow-skinny==2.22.0->mlflow)\n",
      "  Downloading typing_extensions-4.13.2-py3-none-any.whl.metadata (3.0 kB)\n",
      "Collecting tomli (from alembic!=1.10.0,<2->mlflow)\n",
      "  Downloading tomli-2.2.1-py3-none-any.whl.metadata (10 kB)\n",
      "Requirement already satisfied: urllib3>=1.26.0 in /Users/daniel/opt/anaconda3/envs/my_env_2/lib/python3.9/site-packages (from docker<8,>=4.0.0->mlflow) (2.0.7)\n",
      "Requirement already satisfied: Werkzeug>=3.0.0 in /Users/daniel/opt/anaconda3/envs/my_env_2/lib/python3.9/site-packages (from Flask<4->mlflow) (3.0.6)\n",
      "Requirement already satisfied: itsdangerous>=2.1.2 in /Users/daniel/opt/anaconda3/envs/my_env_2/lib/python3.9/site-packages (from Flask<4->mlflow) (2.2.0)\n",
      "Requirement already satisfied: blinker>=1.6.2 in /Users/daniel/opt/anaconda3/envs/my_env_2/lib/python3.9/site-packages (from Flask<4->mlflow) (1.9.0)\n",
      "Collecting graphql-core<3.3,>=3.1 (from graphene<4->mlflow)\n",
      "  Downloading graphql_core-3.2.6-py3-none-any.whl.metadata (11 kB)\n",
      "Collecting graphql-relay<3.3,>=3.1 (from graphene<4->mlflow)\n",
      "  Downloading graphql_relay-3.2.0-py3-none-any.whl.metadata (12 kB)\n",
      "Requirement already satisfied: python-dateutil<3,>=2.7.0 in /Users/daniel/opt/anaconda3/envs/my_env_2/lib/python3.9/site-packages (from graphene<4->mlflow) (2.9.0)\n",
      "Requirement already satisfied: MarkupSafe>=2.0 in /Users/daniel/opt/anaconda3/envs/my_env_2/lib/python3.9/site-packages (from Jinja2<4,>=2.11->mlflow) (2.1.5)\n",
      "Requirement already satisfied: contourpy>=1.0.1 in /Users/daniel/opt/anaconda3/envs/my_env_2/lib/python3.9/site-packages (from matplotlib<4->mlflow) (1.2.0)\n",
      "Requirement already satisfied: cycler>=0.10 in /Users/daniel/opt/anaconda3/envs/my_env_2/lib/python3.9/site-packages (from matplotlib<4->mlflow) (0.12.1)\n",
      "Requirement already satisfied: fonttools>=4.22.0 in /Users/daniel/opt/anaconda3/envs/my_env_2/lib/python3.9/site-packages (from matplotlib<4->mlflow) (4.50.0)\n",
      "Requirement already satisfied: kiwisolver>=1.3.1 in /Users/daniel/opt/anaconda3/envs/my_env_2/lib/python3.9/site-packages (from matplotlib<4->mlflow) (1.4.5)\n",
      "Requirement already satisfied: pillow>=8 in /Users/daniel/opt/anaconda3/envs/my_env_2/lib/python3.9/site-packages (from matplotlib<4->mlflow) (10.2.0)\n",
      "Requirement already satisfied: pyparsing>=2.3.1 in /Users/daniel/opt/anaconda3/envs/my_env_2/lib/python3.9/site-packages (from matplotlib<4->mlflow) (3.1.2)\n",
      "Requirement already satisfied: importlib-resources>=3.2.0 in /Users/daniel/opt/anaconda3/envs/my_env_2/lib/python3.9/site-packages (from matplotlib<4->mlflow) (6.4.0)\n",
      "Requirement already satisfied: pytz>=2020.1 in /Users/daniel/opt/anaconda3/envs/my_env_2/lib/python3.9/site-packages (from pandas<3->mlflow) (2024.1)\n",
      "Requirement already satisfied: tzdata>=2022.7 in /Users/daniel/opt/anaconda3/envs/my_env_2/lib/python3.9/site-packages (from pandas<3->mlflow) (2024.1)\n",
      "Requirement already satisfied: joblib>=1.2.0 in /Users/daniel/opt/anaconda3/envs/my_env_2/lib/python3.9/site-packages (from scikit-learn<2->mlflow) (1.4.0)\n",
      "Requirement already satisfied: threadpoolctl>=2.0.0 in /Users/daniel/opt/anaconda3/envs/my_env_2/lib/python3.9/site-packages (from scikit-learn<2->mlflow) (3.4.0)\n",
      "Collecting google-auth~=2.0 (from databricks-sdk<1,>=0.20.0->mlflow-skinny==2.22.0->mlflow)\n",
      "  Downloading google_auth-2.40.2-py2.py3-none-any.whl.metadata (6.2 kB)\n",
      "Requirement already satisfied: anyio<4.0.0,>=3.7.1 in /Users/daniel/opt/anaconda3/envs/my_env_2/lib/python3.9/site-packages (from fastapi<1->mlflow-skinny==2.22.0->mlflow) (3.7.1)\n",
      "Requirement already satisfied: starlette<0.28.0,>=0.27.0 in /Users/daniel/opt/anaconda3/envs/my_env_2/lib/python3.9/site-packages (from fastapi<1->mlflow-skinny==2.22.0->mlflow) (0.27.0)\n",
      "Collecting gitdb<5,>=4.0.1 (from gitpython<4,>=3.1.9->mlflow-skinny==2.22.0->mlflow)\n",
      "  Downloading gitdb-4.0.12-py3-none-any.whl.metadata (1.2 kB)\n",
      "Requirement already satisfied: zipp>=3.20 in /Users/daniel/opt/anaconda3/envs/my_env_2/lib/python3.9/site-packages (from importlib_metadata!=4.7.0,<9,>=3.7.0->mlflow-skinny==2.22.0->mlflow) (3.21.0)\n",
      "Collecting deprecated>=1.2.6 (from opentelemetry-api<3,>=1.9.0->mlflow-skinny==2.22.0->mlflow)\n",
      "  Downloading Deprecated-1.2.18-py2.py3-none-any.whl.metadata (5.7 kB)\n",
      "Collecting importlib_metadata!=4.7.0,<9,>=3.7.0 (from mlflow-skinny==2.22.0->mlflow)\n",
      "  Downloading importlib_metadata-8.6.1-py3-none-any.whl.metadata (4.7 kB)\n",
      "Collecting opentelemetry-semantic-conventions==0.54b1 (from opentelemetry-sdk<3,>=1.9.0->mlflow-skinny==2.22.0->mlflow)\n",
      "  Downloading opentelemetry_semantic_conventions-0.54b1-py3-none-any.whl.metadata (2.5 kB)\n",
      "Requirement already satisfied: annotated-types>=0.4.0 in /Users/daniel/opt/anaconda3/envs/my_env_2/lib/python3.9/site-packages (from pydantic<3,>=1.10.8->mlflow-skinny==2.22.0->mlflow) (0.6.0)\n",
      "Requirement already satisfied: pydantic-core==2.10.1 in /Users/daniel/opt/anaconda3/envs/my_env_2/lib/python3.9/site-packages (from pydantic<3,>=1.10.8->mlflow-skinny==2.22.0->mlflow) (2.10.1)\n",
      "Requirement already satisfied: six>=1.5 in /Users/daniel/opt/anaconda3/envs/my_env_2/lib/python3.9/site-packages (from python-dateutil<3,>=2.7.0->graphene<4->mlflow) (1.16.0)\n",
      "Requirement already satisfied: charset-normalizer<4,>=2 in /Users/daniel/opt/anaconda3/envs/my_env_2/lib/python3.9/site-packages (from requests<3,>=2.17.3->mlflow-skinny==2.22.0->mlflow) (3.3.2)\n",
      "Requirement already satisfied: idna<4,>=2.5 in /Users/daniel/opt/anaconda3/envs/my_env_2/lib/python3.9/site-packages (from requests<3,>=2.17.3->mlflow-skinny==2.22.0->mlflow) (3.4)\n",
      "Requirement already satisfied: certifi>=2017.4.17 in /Users/daniel/opt/anaconda3/envs/my_env_2/lib/python3.9/site-packages (from requests<3,>=2.17.3->mlflow-skinny==2.22.0->mlflow) (2023.7.22)\n",
      "Requirement already satisfied: h11>=0.8 in /Users/daniel/opt/anaconda3/envs/my_env_2/lib/python3.9/site-packages (from uvicorn<1->mlflow-skinny==2.22.0->mlflow) (0.14.0)\n",
      "Requirement already satisfied: sniffio>=1.1 in /Users/daniel/opt/anaconda3/envs/my_env_2/lib/python3.9/site-packages (from anyio<4.0.0,>=3.7.1->fastapi<1->mlflow-skinny==2.22.0->mlflow) (1.3.0)\n",
      "Requirement already satisfied: exceptiongroup in /Users/daniel/opt/anaconda3/envs/my_env_2/lib/python3.9/site-packages (from anyio<4.0.0,>=3.7.1->fastapi<1->mlflow-skinny==2.22.0->mlflow) (1.1.3)\n",
      "Collecting wrapt<2,>=1.10 (from deprecated>=1.2.6->opentelemetry-api<3,>=1.9.0->mlflow-skinny==2.22.0->mlflow)\n",
      "  Downloading wrapt-1.17.2-cp39-cp39-macosx_11_0_arm64.whl.metadata (6.4 kB)\n",
      "Collecting smmap<6,>=3.0.1 (from gitdb<5,>=4.0.1->gitpython<4,>=3.1.9->mlflow-skinny==2.22.0->mlflow)\n",
      "  Downloading smmap-5.0.2-py3-none-any.whl.metadata (4.3 kB)\n",
      "Collecting pyasn1-modules>=0.2.1 (from google-auth~=2.0->databricks-sdk<1,>=0.20.0->mlflow-skinny==2.22.0->mlflow)\n",
      "  Downloading pyasn1_modules-0.4.2-py3-none-any.whl.metadata (3.5 kB)\n",
      "Collecting rsa<5,>=3.1.4 (from google-auth~=2.0->databricks-sdk<1,>=0.20.0->mlflow-skinny==2.22.0->mlflow)\n",
      "  Downloading rsa-4.9.1-py3-none-any.whl.metadata (5.6 kB)\n",
      "Collecting pyasn1<0.7.0,>=0.6.1 (from pyasn1-modules>=0.2.1->google-auth~=2.0->databricks-sdk<1,>=0.20.0->mlflow-skinny==2.22.0->mlflow)\n",
      "  Downloading pyasn1-0.6.1-py3-none-any.whl.metadata (8.4 kB)\n",
      "Downloading mlflow-2.22.0-py3-none-any.whl (29.0 MB)\n",
      "\u001b[2K   \u001b[90m━━━━━━━━━━━━━━━━━━━━━━━━━━━━━━━━━━━━━━━━\u001b[0m \u001b[32m29.0/29.0 MB\u001b[0m \u001b[31m28.4 MB/s\u001b[0m eta \u001b[36m0:00:00\u001b[0m00:01\u001b[0m00:01\u001b[0m\n",
      "\u001b[?25hDownloading mlflow_skinny-2.22.0-py3-none-any.whl (6.3 MB)\n",
      "\u001b[2K   \u001b[90m━━━━━━━━━━━━━━━━━━━━━━━━━━━━━━━━━━━━━━━━\u001b[0m \u001b[32m6.3/6.3 MB\u001b[0m \u001b[31m29.6 MB/s\u001b[0m eta \u001b[36m0:00:00\u001b[0m00:01\u001b[0m00:01\u001b[0m\n",
      "\u001b[?25hDownloading alembic-1.16.1-py3-none-any.whl (242 kB)\n",
      "\u001b[2K   \u001b[90m━━━━━━━━━━━━━━━━━━━━━━━━━━━━━━━━━━━━━━━━\u001b[0m \u001b[32m242.5/242.5 kB\u001b[0m \u001b[31m18.0 MB/s\u001b[0m eta \u001b[36m0:00:00\u001b[0m\n",
      "\u001b[?25hDownloading docker-7.1.0-py3-none-any.whl (147 kB)\n",
      "\u001b[2K   \u001b[90m━━━━━━━━━━━━━━━━━━━━━━━━━━━━━━━━━━━━━━━━\u001b[0m \u001b[32m147.8/147.8 kB\u001b[0m \u001b[31m11.5 MB/s\u001b[0m eta \u001b[36m0:00:00\u001b[0m\n",
      "\u001b[?25hDownloading graphene-3.4.3-py2.py3-none-any.whl (114 kB)\n",
      "\u001b[2K   \u001b[90m━━━━━━━━━━━━━━━━━━━━━━━━━━━━━━━━━━━━━━━━\u001b[0m \u001b[32m114.9/114.9 kB\u001b[0m \u001b[31m10.0 MB/s\u001b[0m eta \u001b[36m0:00:00\u001b[0m\n",
      "\u001b[?25hDownloading gunicorn-23.0.0-py3-none-any.whl (85 kB)\n",
      "\u001b[2K   \u001b[90m━━━━━━━━━━━━━━━━━━━━━━━━━━━━━━━━━━━━━━━━\u001b[0m \u001b[32m85.0/85.0 kB\u001b[0m \u001b[31m7.3 MB/s\u001b[0m eta \u001b[36m0:00:00\u001b[0m\n",
      "\u001b[?25hDownloading markdown-3.8-py3-none-any.whl (106 kB)\n",
      "\u001b[2K   \u001b[90m━━━━━━━━━━━━━━━━━━━━━━━━━━━━━━━━━━━━━━━━\u001b[0m \u001b[32m106.2/106.2 kB\u001b[0m \u001b[31m9.1 MB/s\u001b[0m eta \u001b[36m0:00:00\u001b[0m\n",
      "\u001b[?25hDownloading pyarrow-19.0.1-cp39-cp39-macosx_12_0_arm64.whl (30.7 MB)\n",
      "\u001b[2K   \u001b[90m━━━━━━━━━━━━━━━━━━━━━━━━━━━━━━━━━━━━━━━━\u001b[0m \u001b[32m30.7/30.7 MB\u001b[0m \u001b[31m4.9 MB/s\u001b[0m eta \u001b[36m0:00:00\u001b[0m00:01\u001b[0m00:01\u001b[0mm\n",
      "\u001b[?25hDownloading sqlalchemy-2.0.41-cp39-cp39-macosx_11_0_arm64.whl (2.1 MB)\n",
      "\u001b[2K   \u001b[90m━━━━━━━━━━━━━━━━━━━━━━━━━━━━━━━━━━━━━━━━\u001b[0m \u001b[32m2.1/2.1 MB\u001b[0m \u001b[31m30.9 MB/s\u001b[0m eta \u001b[36m0:00:00\u001b[0ma \u001b[36m0:00:01\u001b[0m\n",
      "\u001b[?25hDownloading cachetools-5.5.2-py3-none-any.whl (10 kB)\n",
      "Downloading cloudpickle-3.1.1-py3-none-any.whl (20 kB)\n",
      "Downloading databricks_sdk-0.54.0-py3-none-any.whl (720 kB)\n",
      "\u001b[2K   \u001b[90m━━━━━━━━━━━━━━━━━━━━━━━━━━━━━━━━━━━━━━━━\u001b[0m \u001b[32m720.5/720.5 kB\u001b[0m \u001b[31m24.4 MB/s\u001b[0m eta \u001b[36m0:00:00\u001b[0m\n",
      "\u001b[?25hDownloading GitPython-3.1.44-py3-none-any.whl (207 kB)\n",
      "\u001b[2K   \u001b[90m━━━━━━━━━━━━━━━━━━━━━━━━━━━━━━━━━━━━━━━━\u001b[0m \u001b[32m207.6/207.6 kB\u001b[0m \u001b[31m15.9 MB/s\u001b[0m eta \u001b[36m0:00:00\u001b[0m\n",
      "\u001b[?25hDownloading graphql_core-3.2.6-py3-none-any.whl (203 kB)\n",
      "\u001b[2K   \u001b[90m━━━━━━━━━━━━━━━━━━━━━━━━━━━━━━━━━━━━━━━━\u001b[0m \u001b[32m203.4/203.4 kB\u001b[0m \u001b[31m15.4 MB/s\u001b[0m eta \u001b[36m0:00:00\u001b[0m\n",
      "\u001b[?25hDownloading graphql_relay-3.2.0-py3-none-any.whl (16 kB)\n",
      "Downloading opentelemetry_api-1.33.1-py3-none-any.whl (65 kB)\n",
      "\u001b[2K   \u001b[90m━━━━━━━━━━━━━━━━━━━━━━━━━━━━━━━━━━━━━━━━\u001b[0m \u001b[32m65.8/65.8 kB\u001b[0m \u001b[31m7.7 MB/s\u001b[0m eta \u001b[36m0:00:00\u001b[0m\n",
      "\u001b[?25hDownloading importlib_metadata-8.6.1-py3-none-any.whl (26 kB)\n",
      "Downloading opentelemetry_sdk-1.33.1-py3-none-any.whl (118 kB)\n",
      "\u001b[2K   \u001b[90m━━━━━━━━━━━━━━━━━━━━━━━━━━━━━━━━━━━━━━━━\u001b[0m \u001b[32m119.0/119.0 kB\u001b[0m \u001b[31m9.8 MB/s\u001b[0m eta \u001b[36m0:00:00\u001b[0m\n",
      "\u001b[?25hDownloading opentelemetry_semantic_conventions-0.54b1-py3-none-any.whl (194 kB)\n",
      "\u001b[2K   \u001b[90m━━━━━━━━━━━━━━━━━━━━━━━━━━━━━━━━━━━━━━━━\u001b[0m \u001b[32m194.9/194.9 kB\u001b[0m \u001b[31m13.7 MB/s\u001b[0m eta \u001b[36m0:00:00\u001b[0m\n",
      "\u001b[?25hDownloading protobuf-6.31.0-cp39-abi3-macosx_10_9_universal2.whl (425 kB)\n",
      "\u001b[2K   \u001b[90m━━━━━━━━━━━━━━━━━━━━━━━━━━━━━━━━━━━━━━━━\u001b[0m \u001b[32m425.4/425.4 kB\u001b[0m \u001b[31m23.0 MB/s\u001b[0m eta \u001b[36m0:00:00\u001b[0m\n",
      "\u001b[?25hDownloading sqlparse-0.5.3-py3-none-any.whl (44 kB)\n",
      "\u001b[2K   \u001b[90m━━━━━━━━━━━━━━━━━━━━━━━━━━━━━━━━━━━━━━━━\u001b[0m \u001b[32m44.4/44.4 kB\u001b[0m \u001b[31m4.0 MB/s\u001b[0m eta \u001b[36m0:00:00\u001b[0m\n",
      "\u001b[?25hDownloading typing_extensions-4.13.2-py3-none-any.whl (45 kB)\n",
      "\u001b[2K   \u001b[90m━━━━━━━━━━━━━━━━━━━━━━━━━━━━━━━━━━━━━━━━\u001b[0m \u001b[32m45.8/45.8 kB\u001b[0m \u001b[31m4.7 MB/s\u001b[0m eta \u001b[36m0:00:00\u001b[0m\n",
      "\u001b[?25hDownloading mako-1.3.10-py3-none-any.whl (78 kB)\n",
      "\u001b[2K   \u001b[90m━━━━━━━━━━━━━━━━━━━━━━━━━━━━━━━━━━━━━━━━\u001b[0m \u001b[32m78.5/78.5 kB\u001b[0m \u001b[31m8.7 MB/s\u001b[0m eta \u001b[36m0:00:00\u001b[0m\n",
      "\u001b[?25hDownloading tomli-2.2.1-py3-none-any.whl (14 kB)\n",
      "Downloading Deprecated-1.2.18-py2.py3-none-any.whl (10.0 kB)\n",
      "Downloading gitdb-4.0.12-py3-none-any.whl (62 kB)\n",
      "\u001b[2K   \u001b[90m━━━━━━━━━━━━━━━━━━━━━━━━━━━━━━━━━━━━━━━━\u001b[0m \u001b[32m62.8/62.8 kB\u001b[0m \u001b[31m6.7 MB/s\u001b[0m eta \u001b[36m0:00:00\u001b[0m\n",
      "\u001b[?25hDownloading google_auth-2.40.2-py2.py3-none-any.whl (216 kB)\n",
      "\u001b[2K   \u001b[90m━━━━━━━━━━━━━━━━━━━━━━━━━━━━━━━━━━━━━━━━\u001b[0m \u001b[32m216.1/216.1 kB\u001b[0m \u001b[31m17.5 MB/s\u001b[0m eta \u001b[36m0:00:00\u001b[0m\n",
      "\u001b[?25hDownloading pyasn1_modules-0.4.2-py3-none-any.whl (181 kB)\n",
      "\u001b[2K   \u001b[90m━━━━━━━━━━━━━━━━━━━━━━━━━━━━━━━━━━━━━━━━\u001b[0m \u001b[32m181.3/181.3 kB\u001b[0m \u001b[31m17.8 MB/s\u001b[0m eta \u001b[36m0:00:00\u001b[0m\n",
      "\u001b[?25hDownloading rsa-4.9.1-py3-none-any.whl (34 kB)\n",
      "Downloading smmap-5.0.2-py3-none-any.whl (24 kB)\n",
      "Downloading wrapt-1.17.2-cp39-cp39-macosx_11_0_arm64.whl (38 kB)\n",
      "Downloading pyasn1-0.6.1-py3-none-any.whl (83 kB)\n",
      "\u001b[2K   \u001b[90m━━━━━━━━━━━━━━━━━━━━━━━━━━━━━━━━━━━━━━━━\u001b[0m \u001b[32m83.1/83.1 kB\u001b[0m \u001b[31m9.3 MB/s\u001b[0m eta \u001b[36m0:00:00\u001b[0m\n",
      "\u001b[?25hInstalling collected packages: wrapt, typing-extensions, tomli, sqlparse, smmap, pyasn1, pyarrow, protobuf, Mako, importlib_metadata, gunicorn, cloudpickle, cachetools, sqlalchemy, rsa, pyasn1-modules, markdown, graphql-core, gitdb, docker, deprecated, opentelemetry-api, graphql-relay, google-auth, gitpython, alembic, opentelemetry-semantic-conventions, graphene, databricks-sdk, opentelemetry-sdk, mlflow-skinny, mlflow\n",
      "  Attempting uninstall: typing-extensions\n",
      "    Found existing installation: typing_extensions 4.10.0\n",
      "    Uninstalling typing_extensions-4.10.0:\n",
      "      Successfully uninstalled typing_extensions-4.10.0\n",
      "  Attempting uninstall: importlib_metadata\n",
      "    Found existing installation: importlib_metadata 8.7.0\n",
      "    Uninstalling importlib_metadata-8.7.0:\n",
      "      Successfully uninstalled importlib_metadata-8.7.0\n",
      "Successfully installed Mako-1.3.10 alembic-1.16.1 cachetools-5.5.2 cloudpickle-3.1.1 databricks-sdk-0.54.0 deprecated-1.2.18 docker-7.1.0 gitdb-4.0.12 gitpython-3.1.44 google-auth-2.40.2 graphene-3.4.3 graphql-core-3.2.6 graphql-relay-3.2.0 gunicorn-23.0.0 importlib_metadata-8.6.1 markdown-3.8 mlflow-2.22.0 mlflow-skinny-2.22.0 opentelemetry-api-1.33.1 opentelemetry-sdk-1.33.1 opentelemetry-semantic-conventions-0.54b1 protobuf-6.31.0 pyarrow-19.0.1 pyasn1-0.6.1 pyasn1-modules-0.4.2 rsa-4.9.1 smmap-5.0.2 sqlalchemy-2.0.41 sqlparse-0.5.3 tomli-2.2.1 typing-extensions-4.13.2 wrapt-1.17.2\n"
     ]
    }
   ],
   "source": [
    "!pip install mlflow"
   ]
  },
  {
   "cell_type": "code",
   "execution_count": 2,
   "metadata": {},
   "outputs": [
    {
     "name": "stdout",
     "output_type": "stream",
     "text": [
      "mlflow, version 2.22.0\n"
     ]
    }
   ],
   "source": [
    "#q1\n",
    "!mlflow --version"
   ]
  },
  {
   "cell_type": "markdown",
   "metadata": {},
   "source": [
    "## Q2"
   ]
  },
  {
   "cell_type": "code",
   "execution_count": 8,
   "metadata": {},
   "outputs": [],
   "source": [
    "!python homework/preprocess_data.py --raw_data_path ./ --dest_path ./output"
   ]
  },
  {
   "cell_type": "code",
   "execution_count": 14,
   "metadata": {},
   "outputs": [
    {
     "name": "stdout",
     "output_type": "stream",
     "text": [
      "       4\n"
     ]
    }
   ],
   "source": [
    "##q2\n",
    "!ls -1 ./output | wc -l"
   ]
  },
  {
   "cell_type": "markdown",
   "metadata": {},
   "source": [
    "## Q3"
   ]
  },
  {
   "cell_type": "code",
   "execution_count": 15,
   "metadata": {},
   "outputs": [
    {
     "name": "stdout",
     "output_type": "stream",
     "text": [
      "2025/05/26 22:07:36 INFO mlflow.store.db.utils: Creating initial MLflow database tables...\n",
      "2025/05/26 22:07:36 INFO mlflow.store.db.utils: Updating database tables\n",
      "INFO  [alembic.runtime.migration] Context impl SQLiteImpl.\n",
      "INFO  [alembic.runtime.migration] Will assume non-transactional DDL.\n",
      "INFO  [alembic.runtime.migration] Running upgrade  -> 451aebb31d03, add metric step\n",
      "INFO  [alembic.runtime.migration] Running upgrade 451aebb31d03 -> 90e64c465722, migrate user column to tags\n",
      "INFO  [alembic.runtime.migration] Running upgrade 90e64c465722 -> 181f10493468, allow nulls for metric values\n",
      "INFO  [alembic.runtime.migration] Running upgrade 181f10493468 -> df50e92ffc5e, Add Experiment Tags Table\n",
      "INFO  [alembic.runtime.migration] Running upgrade df50e92ffc5e -> 7ac759974ad8, Update run tags with larger limit\n",
      "INFO  [alembic.runtime.migration] Running upgrade 7ac759974ad8 -> 89d4b8295536, create latest metrics table\n",
      "INFO  [89d4b8295536_create_latest_metrics_table_py] Migration complete!\n",
      "INFO  [alembic.runtime.migration] Running upgrade 89d4b8295536 -> 2b4d017a5e9b, add model registry tables to db\n",
      "INFO  [2b4d017a5e9b_add_model_registry_tables_to_db_py] Adding registered_models and model_versions tables to database.\n",
      "INFO  [2b4d017a5e9b_add_model_registry_tables_to_db_py] Migration complete!\n",
      "INFO  [alembic.runtime.migration] Running upgrade 2b4d017a5e9b -> cfd24bdc0731, Update run status constraint with killed\n",
      "INFO  [alembic.runtime.migration] Running upgrade cfd24bdc0731 -> 0a8213491aaa, drop_duplicate_killed_constraint\n",
      "INFO  [alembic.runtime.migration] Running upgrade 0a8213491aaa -> 728d730b5ebd, add registered model tags table\n",
      "INFO  [alembic.runtime.migration] Running upgrade 728d730b5ebd -> 27a6a02d2cf1, add model version tags table\n",
      "INFO  [alembic.runtime.migration] Running upgrade 27a6a02d2cf1 -> 84291f40a231, add run_link to model_version\n",
      "INFO  [alembic.runtime.migration] Running upgrade 84291f40a231 -> a8c4a736bde6, allow nulls for run_id\n",
      "INFO  [alembic.runtime.migration] Running upgrade a8c4a736bde6 -> 39d1c3be5f05, add_is_nan_constraint_for_metrics_tables_if_necessary\n",
      "INFO  [alembic.runtime.migration] Running upgrade 39d1c3be5f05 -> c48cb773bb87, reset_default_value_for_is_nan_in_metrics_table_for_mysql\n",
      "INFO  [alembic.runtime.migration] Running upgrade c48cb773bb87 -> bd07f7e963c5, create index on run_uuid\n",
      "INFO  [alembic.runtime.migration] Running upgrade bd07f7e963c5 -> 0c779009ac13, add deleted_time field to runs table\n",
      "INFO  [alembic.runtime.migration] Running upgrade 0c779009ac13 -> cc1f77228345, change param value length to 500\n",
      "INFO  [alembic.runtime.migration] Running upgrade cc1f77228345 -> 97727af70f4d, Add creation_time and last_update_time to experiments table\n",
      "INFO  [alembic.runtime.migration] Running upgrade 97727af70f4d -> 3500859a5d39, Add Model Aliases table\n",
      "INFO  [alembic.runtime.migration] Running upgrade 3500859a5d39 -> 7f2a7d5fae7d, add datasets inputs input_tags tables\n",
      "INFO  [alembic.runtime.migration] Running upgrade 7f2a7d5fae7d -> 2d6e25af4d3e, increase max param val length from 500 to 8000\n",
      "INFO  [alembic.runtime.migration] Running upgrade 2d6e25af4d3e -> acf3f17fdcc7, add storage location field to model versions\n",
      "INFO  [alembic.runtime.migration] Running upgrade acf3f17fdcc7 -> 867495a8f9d4, add trace tables\n",
      "INFO  [alembic.runtime.migration] Running upgrade 867495a8f9d4 -> 5b0e9adcef9c, add cascade deletion to trace tables foreign keys\n",
      "INFO  [alembic.runtime.migration] Running upgrade 5b0e9adcef9c -> 4465047574b1, increase max dataset schema size\n",
      "INFO  [alembic.runtime.migration] Running upgrade 4465047574b1 -> f5a4f2784254, increase run tag value limit to 8000\n",
      "INFO  [alembic.runtime.migration] Running upgrade f5a4f2784254 -> 0584bdc529eb, add cascading deletion to datasets from experiments\n",
      "INFO  [alembic.runtime.migration] Context impl SQLiteImpl.\n",
      "INFO  [alembic.runtime.migration] Will assume non-transactional DDL.\n",
      "2025/05/26 22:07:36 INFO mlflow.tracking.fluent: Experiment with name 'nyc-taxi-experiment-h02' does not exist. Creating a new experiment.\n"
     ]
    }
   ],
   "source": [
    "!python homework/train.py"
   ]
  },
  {
   "cell_type": "code",
   "execution_count": 72,
   "metadata": {},
   "outputs": [],
   "source": [
    "import mlflow\n",
    "mlflow.set_tracking_uri(\"sqlite:///mlflow.db\")"
   ]
  },
  {
   "cell_type": "code",
   "execution_count": 71,
   "metadata": {},
   "outputs": [
    {
     "data": {
      "text/plain": [
       "'2'"
      ]
     },
     "execution_count": 71,
     "metadata": {},
     "output_type": "execute_result"
    }
   ],
   "source": [
    "#q3\n",
    "experiment = mlflow.get_experiment_by_name('nyc-taxi-experiment-h02')\n",
    "mlflow.search_runs(experiment_ids=experiment.experiment_id).iloc[0].loc[\"params.min_samples_split\"]"
   ]
  },
  {
   "cell_type": "markdown",
   "metadata": {},
   "source": [
    "## Q4"
   ]
  },
  {
   "cell_type": "markdown",
   "metadata": {},
   "source": [
    "> mlflow ui --backend-store-uri sqlite:///mlflow.db --default-artifact-root ./artifacts"
   ]
  },
  {
   "cell_type": "markdown",
   "metadata": {},
   "source": [
    "#q4\n",
    "> default-artifact-root"
   ]
  },
  {
   "cell_type": "markdown",
   "metadata": {},
   "source": [
    "## Q5"
   ]
  },
  {
   "cell_type": "code",
   "execution_count": 29,
   "metadata": {},
   "outputs": [
    {
     "name": "stdout",
     "output_type": "stream",
     "text": [
      "Collecting hyperopt\n",
      "  Downloading hyperopt-0.2.7-py2.py3-none-any.whl.metadata (1.7 kB)\n",
      "Requirement already satisfied: numpy in /Users/daniel/opt/anaconda3/envs/my_env_2/lib/python3.9/site-packages (from hyperopt) (1.26.4)\n",
      "Requirement already satisfied: scipy in /Users/daniel/opt/anaconda3/envs/my_env_2/lib/python3.9/site-packages (from hyperopt) (1.13.0)\n",
      "Requirement already satisfied: six in /Users/daniel/opt/anaconda3/envs/my_env_2/lib/python3.9/site-packages (from hyperopt) (1.16.0)\n",
      "Requirement already satisfied: networkx>=2.2 in /Users/daniel/opt/anaconda3/envs/my_env_2/lib/python3.9/site-packages (from hyperopt) (3.2.1)\n",
      "Collecting future (from hyperopt)\n",
      "  Downloading future-1.0.0-py3-none-any.whl.metadata (4.0 kB)\n",
      "Requirement already satisfied: tqdm in /Users/daniel/opt/anaconda3/envs/my_env_2/lib/python3.9/site-packages (from hyperopt) (4.66.2)\n",
      "Requirement already satisfied: cloudpickle in /Users/daniel/opt/anaconda3/envs/my_env_2/lib/python3.9/site-packages (from hyperopt) (3.1.1)\n",
      "Collecting py4j (from hyperopt)\n",
      "  Downloading py4j-0.10.9.9-py2.py3-none-any.whl.metadata (1.3 kB)\n",
      "Downloading hyperopt-0.2.7-py2.py3-none-any.whl (1.6 MB)\n",
      "\u001b[2K   \u001b[90m━━━━━━━━━━━━━━━━━━━━━━━━━━━━━━━━━━━━━━━━\u001b[0m \u001b[32m1.6/1.6 MB\u001b[0m \u001b[31m5.3 MB/s\u001b[0m eta \u001b[36m0:00:00\u001b[0ma \u001b[36m0:00:01\u001b[0m\n",
      "\u001b[?25hDownloading future-1.0.0-py3-none-any.whl (491 kB)\n",
      "\u001b[2K   \u001b[90m━━━━━━━━━━━━━━━━━━━━━━━━━━━━━━━━━━━━━━━━\u001b[0m \u001b[32m491.3/491.3 kB\u001b[0m \u001b[31m6.5 MB/s\u001b[0m eta \u001b[36m0:00:00\u001b[0m00:01\u001b[0m00:01\u001b[0m\n",
      "\u001b[?25hDownloading py4j-0.10.9.9-py2.py3-none-any.whl (203 kB)\n",
      "\u001b[2K   \u001b[90m━━━━━━━━━━━━━━━━━━━━━━━━━━━━━━━━━━━━━━━━\u001b[0m \u001b[32m203.0/203.0 kB\u001b[0m \u001b[31m6.6 MB/s\u001b[0m eta \u001b[36m0:00:00\u001b[0m\n",
      "\u001b[?25hInstalling collected packages: py4j, future, hyperopt\n",
      "Successfully installed future-1.0.0 hyperopt-0.2.7 py4j-0.10.9.9\n"
     ]
    }
   ],
   "source": [
    "!pip install hyperopt"
   ]
  },
  {
   "cell_type": "code",
   "execution_count": 30,
   "metadata": {},
   "outputs": [
    {
     "name": "stdout",
     "output_type": "stream",
     "text": [
      "2025/05/27 11:12:21 INFO mlflow.tracking.fluent: Experiment with name 'random-forest-hyperopt' does not exist. Creating a new experiment.\n",
      "🏃 View run gifted-squid-544 at: http://127.0.0.1:5000/#/experiments/2/runs/8d710fb91cf64a238866962d36dc6992\n",
      "\n",
      "🧪 View experiment at: http://127.0.0.1:5000/#/experiments/2                    \n",
      "\n",
      "🏃 View run brawny-crow-544 at: http://127.0.0.1:5000/#/experiments/2/runs/45bce59faa92483b9666977e9af9dfc0\n",
      "\n",
      "🧪 View experiment at: http://127.0.0.1:5000/#/experiments/2                    \n",
      "\n",
      "🏃 View run fun-grub-559 at: http://127.0.0.1:5000/#/experiments/2/runs/c8dbfb459cc044e6879c7c911d6eb462\n",
      "\n",
      "🧪 View experiment at: http://127.0.0.1:5000/#/experiments/2                    \n",
      "\n",
      "🏃 View run serious-shark-290 at: http://127.0.0.1:5000/#/experiments/2/runs/a8efc9f71d214fed9dc44d6d84b20c42\n",
      "\n",
      "🧪 View experiment at: http://127.0.0.1:5000/#/experiments/2                    \n",
      "\n",
      "🏃 View run shivering-snipe-934 at: http://127.0.0.1:5000/#/experiments/2/runs/78d94da6c68c4e3788731d46fde1e3dc\n",
      "\n",
      "🧪 View experiment at: http://127.0.0.1:5000/#/experiments/2                    \n",
      "\n",
      "🏃 View run gifted-sloth-975 at: http://127.0.0.1:5000/#/experiments/2/runs/f799c4175ecf482db4f3ec946996b22a\n",
      "\n",
      "🧪 View experiment at: http://127.0.0.1:5000/#/experiments/2                    \n",
      "\n",
      "🏃 View run respected-owl-658 at: http://127.0.0.1:5000/#/experiments/2/runs/9af5390053d1480abf4a1433fcfcae96\n",
      "\n",
      "🧪 View experiment at: http://127.0.0.1:5000/#/experiments/2                    \n",
      "\n",
      "🏃 View run capable-dove-409 at: http://127.0.0.1:5000/#/experiments/2/runs/f8172f082eb74c32a6d166a9883e11fc\n",
      "\n",
      "🧪 View experiment at: http://127.0.0.1:5000/#/experiments/2                    \n",
      "\n",
      "🏃 View run caring-mink-191 at: http://127.0.0.1:5000/#/experiments/2/runs/4f0922b8e8f345dd9e6ab9ac774092fa\n",
      "\n",
      "🧪 View experiment at: http://127.0.0.1:5000/#/experiments/2                    \n",
      "\n",
      "🏃 View run gentle-goat-406 at: http://127.0.0.1:5000/#/experiments/2/runs/6a3f85d23ce242258c597138070056e5\n",
      "\n",
      "🧪 View experiment at: http://127.0.0.1:5000/#/experiments/2                    \n",
      "\n",
      "🏃 View run victorious-stoat-118 at: http://127.0.0.1:5000/#/experiments/2/runs/1fd6bd921ed8482cab053e3e7aca8eba\n",
      "\n",
      "🧪 View experiment at: http://127.0.0.1:5000/#/experiments/2                    \n",
      "\n",
      "🏃 View run adorable-skink-157 at: http://127.0.0.1:5000/#/experiments/2/runs/1963aebfaec443f782963d99c7126baa\n",
      "\n",
      "🧪 View experiment at: http://127.0.0.1:5000/#/experiments/2                    \n",
      "\n",
      "🏃 View run nimble-shoat-263 at: http://127.0.0.1:5000/#/experiments/2/runs/f24f9dfdb7b44eaf92ff110b403f1cb8\n",
      "\n",
      "🧪 View experiment at: http://127.0.0.1:5000/#/experiments/2                    \n",
      "\n",
      "🏃 View run silent-shrew-50 at: http://127.0.0.1:5000/#/experiments/2/runs/06e4db286ad84976b1ca0ed00aee1a6e\n",
      "\n",
      "🧪 View experiment at: http://127.0.0.1:5000/#/experiments/2                    \n",
      "\n",
      "🏃 View run glamorous-carp-910 at: http://127.0.0.1:5000/#/experiments/2/runs/e4ed58a84ffa47e886f430362465efda\n",
      "\n",
      "🧪 View experiment at: http://127.0.0.1:5000/#/experiments/2                    \n",
      "\n",
      "100%|██████████| 15/15 [01:05<00:00,  4.37s/trial, best loss: 5.335419588556921]\n"
     ]
    }
   ],
   "source": [
    "!python homework/hpo.py"
   ]
  },
  {
   "cell_type": "code",
   "execution_count": 76,
   "metadata": {},
   "outputs": [
    {
     "data": {
      "text/plain": [
       "5.335419588556921"
      ]
     },
     "execution_count": 76,
     "metadata": {},
     "output_type": "execute_result"
    }
   ],
   "source": [
    "#q5\n",
    "experiment = mlflow.get_experiment_by_name('random-forest-hyperopt')\n",
    "mlflow.search_runs(experiment_ids=experiment.experiment_id, order_by=['metrics.rmse ASC']).iloc[0].loc['metrics.rmse']"
   ]
  },
  {
   "cell_type": "markdown",
   "metadata": {},
   "source": [
    "## Q6"
   ]
  },
  {
   "cell_type": "code",
   "execution_count": 84,
   "metadata": {},
   "outputs": [
    {
     "name": "stdout",
     "output_type": "stream",
     "text": [
      "2025/05/27 11:59:43 INFO mlflow.tracking.fluent: Experiment with name 'random-forest-best-models-2' does not exist. Creating a new experiment.\n",
      "🏃 View run bedecked-lark-347 at: http://127.0.0.1:5000/#/experiments/5/runs/da7630b080d04727bed836b40f37f6ef\n",
      "🧪 View experiment at: http://127.0.0.1:5000/#/experiments/5\n",
      "🏃 View run silent-whale-77 at: http://127.0.0.1:5000/#/experiments/5/runs/9eeb08bfffe04fba95f2e8de6e3e7f6b\n",
      "🧪 View experiment at: http://127.0.0.1:5000/#/experiments/5\n",
      "🏃 View run calm-asp-935 at: http://127.0.0.1:5000/#/experiments/5/runs/c85b107172ed443497998afff3ba805a\n",
      "🧪 View experiment at: http://127.0.0.1:5000/#/experiments/5\n",
      "🏃 View run silent-crane-34 at: http://127.0.0.1:5000/#/experiments/5/runs/3918eb4a907c4ad8b89b505c8994c6da\n",
      "🧪 View experiment at: http://127.0.0.1:5000/#/experiments/5\n",
      "🏃 View run unique-snail-571 at: http://127.0.0.1:5000/#/experiments/5/runs/5ec7830d5c184abe87f7d7fd12e27bb5\n",
      "🧪 View experiment at: http://127.0.0.1:5000/#/experiments/5\n",
      "Successfully registered model 'nyc-taxi-regressor'.\n",
      "2025/05/27 12:00:59 INFO mlflow.store.model_registry.abstract_store: Waiting up to 300 seconds for model version to finish creation. Model name: nyc-taxi-regressor, version 1\n",
      "Created version '1' of model 'nyc-taxi-regressor'.\n"
     ]
    }
   ],
   "source": [
    "!python homework/register_model.py "
   ]
  },
  {
   "cell_type": "code",
   "execution_count": 86,
   "metadata": {},
   "outputs": [
    {
     "data": {
      "text/plain": [
       "[<RegisteredModel: aliases={}, creation_timestamp=1748365259429, description='', last_updated_timestamp=1748365259455, latest_versions=[<ModelVersion: aliases=[], creation_timestamp=1748365259455, current_stage='None', description='', last_updated_timestamp=1748365259455, name='nyc-taxi-regressor', run_id='da7630b080d04727bed836b40f37f6ef', run_link='', source='/Users/daniel/Documents/DataTalksClub/mlops-zoomcamp/cohorts/2025/02-experiment-tracking/artifacts/5/da7630b080d04727bed836b40f37f6ef/artifacts/model', status='READY', status_message=None, tags={}, user_id=None, version=1>], name='nyc-taxi-regressor', tags={}>]"
      ]
     },
     "execution_count": 86,
     "metadata": {},
     "output_type": "execute_result"
    }
   ],
   "source": [
    "mlflow.search_registered_models()"
   ]
  },
  {
   "cell_type": "code",
   "execution_count": 94,
   "metadata": {},
   "outputs": [
    {
     "data": {
      "text/plain": [
       "5.567408012462019"
      ]
     },
     "execution_count": 94,
     "metadata": {},
     "output_type": "execute_result"
    }
   ],
   "source": [
    "#q6\n",
    "mlflow.get_run('da7630b080d04727bed836b40f37f6ef').data.metrics['test_rmse']"
   ]
  }
 ],
 "metadata": {
  "kernelspec": {
   "display_name": "my_env_2",
   "language": "python",
   "name": "python3"
  },
  "language_info": {
   "codemirror_mode": {
    "name": "ipython",
    "version": 3
   },
   "file_extension": ".py",
   "mimetype": "text/x-python",
   "name": "python",
   "nbconvert_exporter": "python",
   "pygments_lexer": "ipython3",
   "version": "3.9.18"
  }
 },
 "nbformat": 4,
 "nbformat_minor": 2
}
